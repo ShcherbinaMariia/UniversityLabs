{
 "cells": [
  {
   "cell_type": "code",
   "execution_count": 37,
   "metadata": {},
   "outputs": [],
   "source": [
    "import matplotlib.pyplot as plt"
   ]
  },
  {
   "cell_type": "code",
   "execution_count": 43,
   "metadata": {},
   "outputs": [],
   "source": [
    "def getData(filename):\n",
    "    f = open(\"5.txt\", \"r\")\n",
    "    n = int(f.readline())\n",
    "    start, step, end = map(int, f.readline().split())\n",
    "    ph = []\n",
    "    for i in range(n):\n",
    "        ph.append([])\n",
    "    time = []\n",
    "    t = start\n",
    "    while (t <= end):\n",
    "        time.append(t)\n",
    "        for i in range(n):\n",
    "            ph[i].append(int(f.readline()))\n",
    "        t += step\n",
    "    return time, philosophers"
   ]
  },
  {
   "cell_type": "code",
   "execution_count": 42,
   "metadata": {},
   "outputs": [],
   "source": [
    "def plot(time, philosophers):\n",
    "    for i in range(5):\n",
    "        plt.plot(time, ph[i], label=str(i + 1))\n",
    "    plt.legend()"
   ]
  },
  {
   "cell_type": "code",
   "execution_count": null,
   "metadata": {},
   "outputs": [],
   "source": [
    "plot(process())"
   ]
  }
 ],
 "metadata": {
  "kernelspec": {
   "display_name": "Python 3",
   "language": "python",
   "name": "python3"
  },
  "language_info": {
   "codemirror_mode": {
    "name": "ipython",
    "version": 3
   },
   "file_extension": ".py",
   "mimetype": "text/x-python",
   "name": "python",
   "nbconvert_exporter": "python",
   "pygments_lexer": "ipython3",
   "version": "3.6.5"
  }
 },
 "nbformat": 4,
 "nbformat_minor": 2
}
