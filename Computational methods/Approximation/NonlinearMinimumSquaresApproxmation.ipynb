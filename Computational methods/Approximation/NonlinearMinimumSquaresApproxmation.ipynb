{
 "cells": [
  {
   "cell_type": "markdown",
   "metadata": {},
   "source": [
    "## Problem\n",
    "\n",
    "Let's assume we have n points, i-th has coordinates $(x_{i}, y_{i})$. We have inaccurate measurements for distances from each of points to fixed one. Our goal is to approximate it's coordinates $(x_{*}, y_{*})$. \n",
    "\n",
    "$d_{i,*}^2 = (x_{*} - x_{i})^2 + (y_{*} - y_{i})^2, i=1..n $\n",
    "\n",
    "This system is non-linear wrt $x_{*}, y_{*}$.\n",
    "\n",
    "Let's define \n",
    "$r_{i} = y_{i} - f(x_{i}, x_{*}, y_{*})$\n",
    "\n",
    "Using Newton's method for non-linear minimum squares approximation: \n",
    "\n",
    "$J_{r}^{T} J_{r} c^{k+1} = J_{r}^{T} J_{r} c^{k} - J_{r}^{T} r(c^{k})$, where $c_{k} = {x_{*} ^ k, y_{*}^k}$\n",
    "\n",
    "Where terminating condition will be: \n",
    "$\\mid\\mid c^{k+1} - c^k\\mid\\mid < \\epsilon$\n"
   ]
  },
  {
   "cell_type": "code",
   "execution_count": 15,
   "metadata": {},
   "outputs": [],
   "source": [
    "import numpy as np"
   ]
  },
  {
   "cell_type": "markdown",
   "metadata": {},
   "source": [
    "## Loading matrix of points and distances in format (x, y, d)"
   ]
  },
  {
   "cell_type": "code",
   "execution_count": 16,
   "metadata": {},
   "outputs": [],
   "source": [
    "fname = 'Distances.txt'\n",
    "table = np.loadtxt(fname, dtype=float)\n",
    "x = table[:, 0]\n",
    "y = table[:, 1]\n",
    "d = table[:, 2]\n",
    "n = x.shape[0]"
   ]
  },
  {
   "cell_type": "code",
   "execution_count": 17,
   "metadata": {},
   "outputs": [],
   "source": [
    "def r(c):\n",
    "    xk, yk = c\n",
    "    return d**2 - (xk - x)**2 - (yk - y)**2"
   ]
  },
  {
   "cell_type": "code",
   "execution_count": 18,
   "metadata": {},
   "outputs": [],
   "source": [
    "def j(c):\n",
    "    xk, yk = c\n",
    "    jacobian = np.zeros((n, 2))\n",
    "    jacobian[:, 0] = -2 * (xk - x)\n",
    "    jacobian[:, 1] = -2 * (yk - y)\n",
    "    return jacobian"
   ]
  },
  {
   "cell_type": "code",
   "execution_count": 19,
   "metadata": {},
   "outputs": [],
   "source": [
    "eps = 0.001\n",
    "curr_c = np.zeros((2,))\n",
    "prev_c = np.ones((2,))\n",
    "while (all(abs(curr_c - prev_c) > eps)):\n",
    "    prev_c = curr_c\n",
    "    jacobian = j(curr_c)\n",
    "    curr_c = prev_c - np.linalg.inv(np.transpose(jacobian) @ jacobian) @ np.transpose(jacobian) @ r(curr_c)\n",
    "res_x, res_y = curr_c"
   ]
  },
  {
   "cell_type": "markdown",
   "metadata": {},
   "source": [
    "## Plotting results"
   ]
  },
  {
   "cell_type": "code",
   "execution_count": 20,
   "metadata": {},
   "outputs": [],
   "source": [
    "import matplotlib.pyplot as plt"
   ]
  },
  {
   "cell_type": "code",
   "execution_count": 21,
   "metadata": {},
   "outputs": [
    {
     "data": {
      "text/plain": [
       "<matplotlib.collections.PathCollection at 0x1125a3470>"
      ]
     },
     "execution_count": 21,
     "metadata": {},
     "output_type": "execute_result"
    },
    {
     "data": {
      "image/png": "[encoded data removed]",
      "text/plain": [
       "<Figure size 432x288 with 1 Axes>"
      ]
     },
     "metadata": {},
     "output_type": "display_data"
    }
   ],
   "source": [
    "plt.scatter(x, y, marker = '.')\n",
    "plt.scatter(res_x, res_y, marker = '*')"
   ]
  },
  {
   "cell_type": "markdown",
   "metadata": {},
   "source": [
    "## Calculating average error"
   ]
  },
  {
   "cell_type": "code",
   "execution_count": 53,
   "metadata": {},
   "outputs": [
    {
     "name": "stdout",
     "output_type": "stream",
     "text": [
      "Average error:  8.426409284164864\n"
     ]
    }
   ],
   "source": [
    "av_error = np.sqrt(sum(r(curr_c)**2)) / n\n",
    "print(\"Average error: \", av_error)"
   ]
  },
  {
   "cell_type": "code",
   "execution_count": null,
   "metadata": {},
   "outputs": [],
   "source": []
  }
 ],
 "metadata": {
  "kernelspec": {
   "display_name": "Python 3",
   "language": "python",
   "name": "python3"
  },
  "language_info": {
   "codemirror_mode": {
    "name": "ipython",
    "version": 3
   },
   "file_extension": ".py",
   "mimetype": "text/x-python",
   "name": "python",
   "nbconvert_exporter": "python",
   "pygments_lexer": "ipython3",
   "version": "3.6.5"
  }
 },
 "nbformat": 4,
 "nbformat_minor": 2
}
