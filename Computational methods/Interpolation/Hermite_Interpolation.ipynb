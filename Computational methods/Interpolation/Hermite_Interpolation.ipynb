{
 "cells": [
  {
   "cell_type": "markdown",
   "metadata": {},
   "source": [
    "# Interpolation using Hermite polynomial"
   ]
  },
  {
   "cell_type": "code",
   "execution_count": 22,
   "metadata": {},
   "outputs": [],
   "source": [
    "import numpy as np"
   ]
  },
  {
   "cell_type": "markdown",
   "metadata": {},
   "source": [
    "## Reading from file all given table values"
   ]
  },
  {
   "cell_type": "code",
   "execution_count": 3,
   "metadata": {},
   "outputs": [],
   "source": [
    "x = []\n",
    "y = []\n",
    "nodes = []\n",
    "div_diff = []\n",
    "point = -1;\n",
    "k = 0\n",
    "with open(\"interpolation.txt\",\"r\") as f:\n",
    "    for line in f:\n",
    "        values = list(map(float, line.split(\" \")))\n",
    "        point+=1\n",
    "        y.append([])\n",
    "        x.append(values[0])\n",
    "        for i in range(1, len(values)):\n",
    "            nodes.append(point)\n",
    "            div_diff.append([values[1]])\n",
    "            y[point].append(values[i])\n",
    "            k+=1"
   ]
  },
  {
   "cell_type": "markdown",
   "metadata": {},
   "source": [
    "## Calculation of divided differences"
   ]
  },
  {
   "cell_type": "code",
   "execution_count": 4,
   "metadata": {},
   "outputs": [],
   "source": [
    "polynomial = [div_diff[0][0]]\n",
    "for i in range(1, k):\n",
    "    for j in range(i, len(nodes)):\n",
    "        if (nodes[j] == nodes[j - i]):\n",
    "            div_diff[j].append(y[nodes[j]][i]/np.math.factorial(i))\n",
    "        else:\n",
    "            div_diff[j].append((div_diff[j][i-1] - div_diff[j-1][i-1]) / (x[nodes[j]] - x[nodes[j - i]]))\n",
    "    polynomial.append(div_diff[i][i])"
   ]
  },
  {
   "cell_type": "markdown",
   "metadata": {},
   "source": [
    "## Functions for printing Hemite polynomial"
   ]
  },
  {
   "cell_type": "code",
   "execution_count": 26,
   "metadata": {},
   "outputs": [],
   "source": [
    "def w(k):\n",
    "    if polynomial[k] == 0:\n",
    "        return \"\"\n",
    "    res = \"+\"\n",
    "    if (polynomial[k] < 0) :\n",
    "        res += '(' + str(polynomial[k]) + ')'\n",
    "    else:\n",
    "        res += str(polynomial[k])\n",
    "    for i in range(k):\n",
    "        res += \"*\"\n",
    "        if (x[nodes[i]] == 0):\n",
    "            res += 'x'\n",
    "        else:\n",
    "            res += \"(x - \" + str(x[nodes[i]]) + \")\"\n",
    "    return res"
   ]
  },
  {
   "cell_type": "code",
   "execution_count": 27,
   "metadata": {
    "scrolled": true
   },
   "outputs": [
    {
     "name": "stdout",
     "output_type": "stream",
     "text": [
      "Hermite polynomial: 1.0+(-1.0)*x*x+0.1481481481481491*x*x*x+0.42962962962961937*x*x*x*(x - 0.3)\n"
     ]
    }
   ],
   "source": [
    "pol_to_str = str(polynomial[0])\n",
    "for i in range(1, len(nodes)):\n",
    "    pol_to_str += w(i)\n",
    "print(\"Hermite polynomial: \" + pol_to_str)"
   ]
  },
  {
   "cell_type": "markdown",
   "metadata": {},
   "source": [
    "## Application of results of interpolation "
   ]
  },
  {
   "cell_type": "code",
   "execution_count": 18,
   "metadata": {},
   "outputs": [],
   "source": [
    "def calculate(xp):\n",
    "    result = 0\n",
    "    curr = 1\n",
    "    for i in range(len(polynomial)):\n",
    "        result += polynomial[i] * curr\n",
    "        curr *= (xp - x[nodes[i]])\n",
    "    return result"
   ]
  },
  {
   "cell_type": "code",
   "execution_count": 19,
   "metadata": {},
   "outputs": [
    {
     "name": "stdout",
     "output_type": "stream",
     "text": [
      "Enter value of x for interpolation: 0.1\n"
     ]
    }
   ],
   "source": [
    "xp = float(input(\"Enter value of x for interpolation: \"))"
   ]
  },
  {
   "cell_type": "code",
   "execution_count": 20,
   "metadata": {},
   "outputs": [
    {
     "name": "stdout",
     "output_type": "stream",
     "text": [
      "Interpolated value 0.9900622222222222\n"
     ]
    }
   ],
   "source": [
    "print(\"Interpolated value \" + str(calculate(xp)))"
   ]
  }
 ],
 "metadata": {
  "kernelspec": {
   "display_name": "Python 3",
   "language": "python",
   "name": "python3"
  }
 },
 "nbformat": 4,
 "nbformat_minor": 2
}
