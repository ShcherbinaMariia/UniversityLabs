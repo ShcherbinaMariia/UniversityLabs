{
 "cells": [
  {
   "cell_type": "markdown",
   "metadata": {},
   "source": [
    "# Solving Koshi problem for first-order linear differential equation using Runge-Kutta method order 4"
   ]
  },
  {
   "cell_type": "code",
   "execution_count": 42,
   "metadata": {},
   "outputs": [],
   "source": [
    "import numpy as np\n",
    "import matplotlib.pyplot as plt"
   ]
  },
  {
   "cell_type": "markdown",
   "metadata": {},
   "source": [
    "## Defining equation and initial conditions\n",
    "$y' = f(x, y)$, $y(x_{0}) = y_{0}$\n",
    "\n",
    "Let's take as an example: $y' = 3*y - x - x^2$ and $y(0) = 1$\n",
    "\n",
    "Analytical solution for this case will be $y(x) = \\frac{1}{27} (9 x^{2} + 15 x + 22 e^{3 x} + 5)$"
   ]
  },
  {
   "cell_type": "code",
   "execution_count": 43,
   "metadata": {},
   "outputs": [],
   "source": [
    "def f(x, y):\n",
    "    return 3 * y - x - x**2\n",
    "def initial_conditions():\n",
    "    return 0, 1"
   ]
  },
  {
   "cell_type": "code",
   "execution_count": 44,
   "metadata": {},
   "outputs": [],
   "source": [
    "# will be used for comparison of results\n",
    "def analytical_solution(x):\n",
    "    return 1/27 * (9 * x**2 + 15 * x + 22 * np.exp(3*x) + 5)"
   ]
  },
  {
   "cell_type": "markdown",
   "metadata": {},
   "source": [
    "## Runge-Kutta method\n",
    "Let's assume we have $y_{i}$ and equation $y' = f(x, y)$.\n",
    "\n",
    "Obviously, $y_{i+1} = y_{i} + \\delta y_{i}$, where $\\delta y_{i} = \\int_{x_{i}}^{x_{i+1}} y'dx$: \n",
    "\n",
    "Simplest approach is to use left rectangles formula for numerical integration:\n",
    "\n",
    "$y_{i+1} = y_{i} + h * y'$, where $h = x_{i+1} - x_{i}$ - Euler's method.\n",
    "\n",
    "To improve this solution, we can use more accurate formula for numerical integration.\n",
    "If we'll use Simpson's formula, we get Runge-Kutta method of order 4.\n",
    "\n",
    "Formula for this method:\n",
    "$\\delta y_{i} = \\frac{h}{6} * (k_{1} + 2k_{2} + 2k_{3} + k_{4})$, where\n",
    "\n",
    "$k_{1} = f(x_{i}, y_{i})$\n",
    "\n",
    "$k_{2} = f(x_{i} + \\frac{h}{2}, y_{i} + \\frac{hk_{1}}{2})$\n",
    "\n",
    "$k_{3} = f(x_{i} + \\frac{h}{2}, y_{i} + \\frac{hk_{2}}{2})$\n",
    "\n",
    "$k_{4} = f(x_{i} + h, y_{i} + k_{3})$"
   ]
  },
  {
   "cell_type": "code",
   "execution_count": 45,
   "metadata": {},
   "outputs": [
    {
     "name": "stdout",
     "output_type": "stream",
     "text": [
      "Enter step h: 0.1\n",
      "Enter number of points n: 100\n"
     ]
    }
   ],
   "source": [
    "h = float(input('Enter step h: '))\n",
    "n = int(input('Enter number of points n: '))"
   ]
  },
  {
   "cell_type": "code",
   "execution_count": 46,
   "metadata": {},
   "outputs": [],
   "source": [
    "x = np.zeros((n, ))\n",
    "y = np.zeros((n, ))\n",
    "x[0], y[0] = initial_conditions()\n",
    "for i in range(n - 1):\n",
    "    k1 = f(x[i], y[i])\n",
    "    k2 = f(x[i] + h/2, y[i] + h*k1/2)\n",
    "    k3 = f(x[i] + h/2, y[i] + h*k2/2)\n",
    "    k4 = f(x[i] + h, y[i] + h*k3)\n",
    "    x[i + 1] = x[i] + h\n",
    "    y[i + 1] = y[i] + h/6 * (k1 + 2*k2 + 2*k3 + k4)"
   ]
  },
  {
   "cell_type": "markdown",
   "metadata": {},
   "source": [
    "## Visualising results"
   ]
  },
  {
   "cell_type": "code",
   "execution_count": 47,
   "metadata": {},
   "outputs": [
    {
     "data": {
      "text/plain": [
       "<matplotlib.legend.Legend at 0x1133ccb00>"
      ]
     },
     "execution_count": 47,
     "metadata": {},
     "output_type": "execute_result"
    },
    {
     "data": {
      "image/png": "[encoded data removed]",
      "text/plain": [
       "<Figure size 432x288 with 1 Axes>"
      ]
     },
     "metadata": {},
     "output_type": "display_data"
    }
   ],
   "source": [
    "x_analytical = np.linspace(x[0], x[n-1], num=1000)\n",
    "plt.plot(x_analytical, analytical_solution(x_analytical), color='C0', label='analytical solution', linewidth=2)\n",
    "plt.scatter(x, analytical_solution(x), color='C0')\n",
    "plt.plot(x, y, color='C1', label='numerical solution')\n",
    "plt.scatter(x, y, color='C1')\n",
    "plt.legend()"
   ]
  }
 ],
 "metadata": {
  "kernelspec": {
   "display_name": "Python 3",
   "language": "python",
   "name": "python3"
  },
  "language_info": {
   "codemirror_mode": {
    "name": "ipython",
    "version": 3
   },
   "file_extension": ".py",
   "mimetype": "text/x-python",
   "name": "python",
   "nbconvert_exporter": "python",
   "pygments_lexer": "ipython3",
   "version": "3.6.5"
  }
 },
 "nbformat": 4,
 "nbformat_minor": 2
}
