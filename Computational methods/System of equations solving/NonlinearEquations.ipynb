{
 "cells": [
  {
   "cell_type": "markdown",
   "metadata": {},
   "source": [
    "# Method's for solving nonlinear equations"
   ]
  },
  {
   "cell_type": "code",
   "execution_count": 1,
   "metadata": {},
   "outputs": [],
   "source": [
    "import numpy as np\n",
    "import matplotlib.pyplot as plt"
   ]
  },
  {
   "cell_type": "code",
   "execution_count": 183,
   "metadata": {},
   "outputs": [
    {
     "name": "stdout",
     "output_type": "stream",
     "text": [
      "Please enter initial approximation: x0=0\n",
      "Please enter precision: eps=0.01\n"
     ]
    }
   ],
   "source": [
    "x0 = float(input(\"Please enter initial approximation: x0=\"))\n",
    "eps = float(input(\"Please enter precision: eps=\"))"
   ]
  },
  {
   "cell_type": "code",
   "execution_count": 184,
   "metadata": {},
   "outputs": [],
   "source": [
    "X_MIN = x0 - 2\n",
    "X_MAX = x0 + 2"
   ]
  },
  {
   "cell_type": "markdown",
   "metadata": {},
   "source": [
    "## Let's define equation defition(in form f(x)=0)\n",
    "### For next steps we also need it's derivative"
   ]
  },
  {
   "cell_type": "code",
   "execution_count": 185,
   "metadata": {},
   "outputs": [],
   "source": [
    "def f(x):\n",
    "    return np.power(x, 4) + np.power(x, 2) - 6*x + 2\n",
    "def df_by_dx(x):\n",
    "    return 4*np.power(x, 3) + 4*x - 6\n",
    "def d2f_by_dx2(x):\n",
    "    return 12*np.power(x, 2) + 4"
   ]
  },
  {
   "cell_type": "markdown",
   "metadata": {},
   "source": [
    "### Specifiyng methods base class"
   ]
  },
  {
   "cell_type": "code",
   "execution_count": 186,
   "metadata": {},
   "outputs": [],
   "source": [
    "class Method():\n",
    "    def __init__(self, x0, eps):\n",
    "        self.x0 = x0\n",
    "        self.eps = eps\n",
    "        self.x = None\n",
    "        self.x_n = []\n",
    "        self.n_fact = None\n",
    "        self.n_th = None\n",
    "        self.q = None"
   ]
  },
  {
   "cell_type": "markdown",
   "metadata": {},
   "source": [
    "## Class for working with relaxation method"
   ]
  },
  {
   "cell_type": "code",
   "execution_count": 187,
   "metadata": {},
   "outputs": [],
   "source": [
    "class Relaxation_method(Method):\n",
    "    def __init__(self, x0, eps):\n",
    "        super().__init__(x0, eps)\n",
    "        self.tau = None\n",
    "        \n",
    "    def check_parameters(self, x_min, x_max, m1, M1):\n",
    "        xs = np.arange(x_min, x_max, 0.001)\n",
    "        for x in xs:\n",
    "            der = np.abs(df_by_dx(x))\n",
    "            if der < m1 or der > M1:\n",
    "                return False\n",
    "        return True\n",
    "        \n",
    "    def set_parameters(self, m1, M1):\n",
    "        self.m1 = m1\n",
    "        self.M1 = M1\n",
    "        self.tau = 2/(m1 + M1)\n",
    "        self.q = (M1 - m1)/(m1 + M1)\n",
    "        if (df_by_dx(x0) > 0):\n",
    "            self.tau *= -1\n",
    "            return self.check_parameters(1.3, 1.5, m1, M1)\n",
    "        else:\n",
    "            return self.check_parameters(0.3, 0.4, m1, M1)\n",
    "        \n",
    "    def solve(self):\n",
    "        x = self.x0\n",
    "        x_prev = -1\n",
    "        self.x_n = []\n",
    "        self.n_fact = 0\n",
    "        while np.abs(f(x)) > self.eps or np.abs(x - x_prev) > self.eps:\n",
    "            x_prev = x\n",
    "            x = x_prev + self.tau * f(x_prev)\n",
    "            self.x_n.append(x)\n",
    "            self.n_fact += 1\n",
    "        self.x = x\n",
    "        \n",
    "    def calc_n_th(self):\n",
    "        self.n_th = np.floor(np.log(np.abs(self.x0 - self.x) / self.eps) / np.log(1 / self.q) + 1) + 1\n",
    "        "
   ]
  },
  {
   "cell_type": "markdown",
   "metadata": {},
   "source": [
    "## Class for working with Newtons method"
   ]
  },
  {
   "cell_type": "code",
   "execution_count": 188,
   "metadata": {},
   "outputs": [],
   "source": [
    "class Newtons_method(Method):\n",
    "    def check_parameters(self, x_min, x_max, m1, M2):\n",
    "        xs = np.arange(x_min, x_max, 0.001)\n",
    "        if self.x0 < x_min or self.x0 > x_max:\n",
    "            return False\n",
    "        for x in xs:\n",
    "            der = np.abs(df_by_dx(x))\n",
    "            der2 = np.abs(d2f_by_dx2(x))\n",
    "            if der < m1 or der2 > M2:\n",
    "                print(der)\n",
    "                print(der2)\n",
    "                return False\n",
    "        return True\n",
    "        \n",
    "    def set_parameters(self, a, b, m1, M2):\n",
    "        self.m1 = m1\n",
    "        self.M2 = M2\n",
    "        return self.check_parameters(a, b, m1, M2)\n",
    "        \n",
    "    def solve(self):\n",
    "        x = self.x0\n",
    "        x_prev = -1\n",
    "        self.x_n = []\n",
    "        self.n_fact = 0\n",
    "        while np.abs(f(x)) > self.eps or np.abs(x - x_prev) > self.eps:\n",
    "            x_prev = x\n",
    "            x = x_prev - f(x_prev)/df_by_dx(x_prev)\n",
    "            self.x_n.append(x)\n",
    "            self.n_fact += 1\n",
    "        self.x = x\n",
    "    \n",
    "    def calc_n_th(self):\n",
    "        self.q = np.abs((M2 * (self.x0 - self.x)/(2 * self.m1)))\n",
    "        self.n_th = np.log(np.floor(np.log(np.abs(self.x0 - self.x) / eps) / np.log(1 / self.q) + 1), 2) + 1\n",
    "        "
   ]
  },
  {
   "cell_type": "markdown",
   "metadata": {},
   "source": [
    "## Function for visualization results"
   ]
  },
  {
   "cell_type": "code",
   "execution_count": 189,
   "metadata": {},
   "outputs": [],
   "source": [
    "def plot_f(x_min, x_max, ax=None):\n",
    "    xs = np.arange(x_min, x_max, (x_max - x_min)/1000)\n",
    "    ax.plot(xs, f(xs))\n",
    "    ax.axhline(0, c='black')"
   ]
  },
  {
   "cell_type": "code",
   "execution_count": 190,
   "metadata": {},
   "outputs": [],
   "source": [
    "def plot_der(x_min, x_max, ax=None):\n",
    "    xs = np.arange(x_min, x_max, (x_max - x_min)/1000)\n",
    "    ax.plot(xs, df_by_dx(xs))"
   ]
  },
  {
   "cell_type": "code",
   "execution_count": 197,
   "metadata": {},
   "outputs": [],
   "source": [
    "def plot_results(method):\n",
    "    print(\"Result: x=\", method.x)\n",
    "    print(\"Number of iterations: \", method.n_fact)\n",
    "    method.calc_n_th()\n",
    "    print(\"Theoretical number of iterations: \", method.n_th)\n",
    "    fig = plt.figure()\n",
    "    ax = fig.add_subplot(111)\n",
    "    ax.plot(method.x_n, f(np.array(method.x_n)), '-->', c='C1')\n",
    "    x_min = np.min(method.x_n)\n",
    "    x_max = np.max(method.x_n)\n",
    "    plot_f(x_min, x_max, ax)"
   ]
  },
  {
   "cell_type": "markdown",
   "metadata": {},
   "source": [
    "## Main"
   ]
  },
  {
   "cell_type": "code",
   "execution_count": 192,
   "metadata": {},
   "outputs": [
    {
     "data": {
      "image/png": "[encoded data removed]",
      "text/plain": [
       "<Figure size 432x288 with 1 Axes>"
      ]
     },
     "metadata": {},
     "output_type": "display_data"
    }
   ],
   "source": [
    "plot_f(X_MIN, X_MAX, plt)"
   ]
  },
  {
   "cell_type": "code",
   "execution_count": 193,
   "metadata": {
    "scrolled": true
   },
   "outputs": [
    {
     "data": {
      "image/png": "[encoded data removed]",
      "text/plain": [
       "<Figure size 432x288 with 1 Axes>"
      ]
     },
     "metadata": {},
     "output_type": "display_data"
    }
   ],
   "source": [
    "plot_f(X_MIN, X_MAX, plt)\n",
    "plot_der(X_MIN, X_MAX, plt)"
   ]
  },
  {
   "cell_type": "markdown",
   "metadata": {},
   "source": [
    "So we can see that derivative is monotonic near the roots. <br>\n",
    "Also we can see 2 roots, one is about 0.3-0.4 and second is about 1.3-1.5.<br>\n",
    "For first derivative is less then 0, for second greater than zero<br>"
   ]
  },
  {
   "cell_type": "markdown",
   "metadata": {},
   "source": [
    "# Applying Newton's method"
   ]
  },
  {
   "cell_type": "code",
   "execution_count": 195,
   "metadata": {
    "scrolled": false
   },
   "outputs": [
    {
     "name": "stdout",
     "output_type": "stream",
     "text": [
      "Enter a=-0.1\n",
      "Enter b=0.5\n",
      "Enter m1=1.5\n",
      "Enter M2=7\n",
      "Number of iterations:  3\n",
      "Theoretical number of iterations:  21.0\n"
     ]
    },
    {
     "data": {
      "image/png": "[encoded data removed]",
      "text/plain": [
       "<Figure size 432x288 with 1 Axes>"
      ]
     },
     "metadata": {},
     "output_type": "display_data"
    }
   ],
   "source": [
    "newton_method = Newtons_method(x0, eps)\n",
    "a = float(input(\"Enter a=\"))\n",
    "b = float(input(\"Enter b=\"))\n",
    "m1 = float(input('Enter m1='))\n",
    "M2 = float(input('Enter M2='))\n",
    "if newton_method.set_parameters(a, b, m1, M2):\n",
    "    newton_method.solve()\n",
    "    plot_results(newton_method)\n",
    "else:\n",
    "    print(\"Bad Parameters\")"
   ]
  },
  {
   "cell_type": "code",
   "execution_count": 200,
   "metadata": {},
   "outputs": [
    {
     "name": "stdout",
     "output_type": "stream",
     "text": [
      "0.8324828961361873\n"
     ]
    }
   ],
   "source": [
    "print(newton_method.q)"
   ]
  },
  {
   "cell_type": "markdown",
   "metadata": {},
   "source": [
    "# Applying relaxation method"
   ]
  },
  {
   "cell_type": "code",
   "execution_count": 196,
   "metadata": {
    "scrolled": false
   },
   "outputs": [
    {
     "name": "stdout",
     "output_type": "stream",
     "text": [
      "Enter m1=1.5\n",
      "Enter M1=5\n",
      "Number of iterations:  10\n",
      "Theoretical number of iterations:  7.0\n"
     ]
    },
    {
     "data": {
      "image/png": "[encoded data removed]",
      "text/plain": [
       "<Figure size 432x288 with 1 Axes>"
      ]
     },
     "metadata": {},
     "output_type": "display_data"
    }
   ],
   "source": [
    "relaxation_method = Relaxation_method(x0, eps)\n",
    "m1 = float(input('Enter m1='))\n",
    "M1 = float(input('Enter M1='))\n",
    "if relaxation_method.set_parameters(m1, M1):  \n",
    "    relaxation_method.solve()\n",
    "    plot_results(relaxation_method)\n",
    "else:\n",
    "    print(\"Bad parameters\")"
   ]
  },
  {
   "cell_type": "code",
   "execution_count": 199,
   "metadata": {},
   "outputs": [
    {
     "name": "stdout",
     "output_type": "stream",
     "text": [
      "0.5384615384615384\n"
     ]
    }
   ],
   "source": [
    "print(relaxation_method.q)"
   ]
  },
  {
   "cell_type": "code",
   "execution_count": null,
   "metadata": {},
   "outputs": [],
   "source": []
  }
 ],
 "metadata": {
  "kernelspec": {
   "display_name": "Python 3",
   "language": "python",
   "name": "python3"
  },
  "language_info": {
   "codemirror_mode": {
    "name": "ipython",
    "version": 3
   },
   "file_extension": ".py",
   "mimetype": "text/x-python",
   "name": "python",
   "nbconvert_exporter": "python",
   "pygments_lexer": "ipython3",
   "version": "3.6.5"
  }
 },
 "nbformat": 4,
 "nbformat_minor": 2
}
