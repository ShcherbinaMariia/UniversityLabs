{
 "cells": [
  {
   "cell_type": "markdown",
   "metadata": {},
   "source": [
    "###### Finding min and max absolute eigenvalue "
   ]
  },
  {
   "cell_type": "code",
   "execution_count": 9,
   "metadata": {},
   "outputs": [],
   "source": [
    "import numpy as np"
   ]
  },
  {
   "cell_type": "markdown",
   "metadata": {},
   "source": [
    "## Extracting matrix from file"
   ]
  },
  {
   "cell_type": "code",
   "execution_count": 19,
   "metadata": {
    "scrolled": true
   },
   "outputs": [],
   "source": [
    "fname = 'Matrix.txt'\n",
    "A = np.loadtxt(fname, dtype=float)\n",
    "n = A.shape[0]"
   ]
  },
  {
   "cell_type": "markdown",
   "metadata": {},
   "source": [
    "## Setting accuracy parameter eps"
   ]
  },
  {
   "cell_type": "code",
   "execution_count": 11,
   "metadata": {},
   "outputs": [
    {
     "name": "stdout",
     "output_type": "stream",
     "text": [
      "Enter accuracy eps=0.01\n"
     ]
    }
   ],
   "source": [
    "eps = float(input('Enter accuracy eps='))"
   ]
  },
  {
   "cell_type": "markdown",
   "metadata": {},
   "source": [
    "## Iteration process for finding lambda_max of matrix M"
   ]
  },
  {
   "cell_type": "code",
   "execution_count": 20,
   "metadata": {},
   "outputs": [],
   "source": [
    "def find_lambda_max(M):\n",
    "    x = np.ones(n)\n",
    "    x_prev = None\n",
    "    \n",
    "    mu = None\n",
    "    mu_prev = None\n",
    "    \n",
    "    while(mu_prev is None or np.absolute(mu - mu_prev)>eps):\n",
    "        mu_prev = mu\n",
    "        e = x / np.linalg.norm(x)\n",
    "        x = M @ e\n",
    "        mu = sum(x*e)\n",
    "    return mu"
   ]
  },
  {
   "cell_type": "code",
   "execution_count": 21,
   "metadata": {},
   "outputs": [
    {
     "name": "stdout",
     "output_type": "stream",
     "text": [
      "1.2300000000000004\n",
      "1.4042929913929385\n",
      "1.4058232717877446\n"
     ]
    }
   ],
   "source": [
    "lambda_max = np.absolute(find_lambda_max(A))"
   ]
  },
  {
   "cell_type": "markdown",
   "metadata": {},
   "source": [
    "## Finding min eigenvalue using \n",
    "lambda_min(A) = lambda_max(A) - lambda_max(B), \n",
    "where B = lambda_max(A) * E - A"
   ]
  },
  {
   "cell_type": "code",
   "execution_count": 24,
   "metadata": {},
   "outputs": [],
   "source": [
    "B = lambda_max*np.identity(n) - A"
   ]
  },
  {
   "cell_type": "code",
   "execution_count": 25,
   "metadata": {},
   "outputs": [
    {
     "name": "stdout",
     "output_type": "stream",
     "text": [
      "0.1758232717877446\n",
      "1.2850784416485292\n",
      "1.2856773842284541\n"
     ]
    }
   ],
   "source": [
    "lambda_min = np.absolute(lambda_max - find_lambda_max(B))"
   ]
  },
  {
   "cell_type": "markdown",
   "metadata": {},
   "source": [
    "## Output results"
   ]
  },
  {
   "cell_type": "code",
   "execution_count": 26,
   "metadata": {},
   "outputs": [
    {
     "name": "stdout",
     "output_type": "stream",
     "text": [
      "Max eigenvalue= 1.4058232717877446\n",
      "Min eigenvalue= 0.12014588755929045\n"
     ]
    }
   ],
   "source": [
    "print(\"Max eigenvalue=\", lambda_max)\n",
    "print(\"Min eigenvalue=\", lambda_min)"
   ]
  },
  {
   "cell_type": "code",
   "execution_count": null,
   "metadata": {},
   "outputs": [],
   "source": []
  }
 ],
 "metadata": {
  "kernelspec": {
   "display_name": "Python 3",
   "language": "python",
   "name": "python3"
  },
  "language_info": {
   "codemirror_mode": {
    "name": "ipython",
    "version": 3
   },
   "file_extension": ".py",
   "mimetype": "text/x-python",
   "name": "python",
   "nbconvert_exporter": "python",
   "pygments_lexer": "ipython3",
   "version": "3.6.5"
  }
 },
 "nbformat": 4,
 "nbformat_minor": 2
}
