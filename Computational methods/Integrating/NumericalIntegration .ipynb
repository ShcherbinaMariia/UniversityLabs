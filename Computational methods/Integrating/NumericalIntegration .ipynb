{
 "cells": [
  {
   "cell_type": "markdown",
   "metadata": {},
   "source": [
    "# Numerical integration using average rectangles method"
   ]
  },
  {
   "cell_type": "code",
   "execution_count": 28,
   "metadata": {},
   "outputs": [],
   "source": [
    "import numpy as np"
   ]
  },
  {
   "cell_type": "markdown",
   "metadata": {},
   "source": [
    "## Input parameters"
   ]
  },
  {
   "cell_type": "code",
   "execution_count": 37,
   "metadata": {},
   "outputs": [
    {
     "name": "stdout",
     "output_type": "stream",
     "text": [
      "Enter lower limit for integration:  1\n",
      "Enter upper limit for integration:  10\n",
      "Enter number of points: 1000\n"
     ]
    }
   ],
   "source": [
    "a = int(input(\"Enter lower limit for integration:  \"))\n",
    "b = int(input(\"Enter upper limit for integration:  \"))\n",
    "n = int(input(\"Enter number of points: \"))"
   ]
  },
  {
   "cell_type": "code",
   "execution_count": 38,
   "metadata": {},
   "outputs": [],
   "source": [
    "def f(x):\n",
    "    return x*x + 5"
   ]
  },
  {
   "cell_type": "markdown",
   "metadata": {},
   "source": [
    "## Creating uniform partitition"
   ]
  },
  {
   "cell_type": "code",
   "execution_count": 39,
   "metadata": {},
   "outputs": [],
   "source": [
    "def uniform_partitition(n):\n",
    "    dx = (b - a) / (n - 1)\n",
    "    x = np.arange(n) * dx + a\n",
    "    return x, dx"
   ]
  },
  {
   "cell_type": "markdown",
   "metadata": {},
   "source": [
    "## Applying average rectangles formula"
   ]
  },
  {
   "cell_type": "code",
   "execution_count": 40,
   "metadata": {},
   "outputs": [],
   "source": [
    "def calculate_integral(n):\n",
    "    x, dx = uniform_partitition(n)\n",
    "    result = 0\n",
    "    for i in range(n - 1):\n",
    "        result += f((x[i] + x[i+1]) / 2) * dx\n",
    "    return result"
   ]
  },
  {
   "cell_type": "markdown",
   "metadata": {},
   "source": [
    "## Print result"
   ]
  },
  {
   "cell_type": "code",
   "execution_count": 41,
   "metadata": {},
   "outputs": [
    {
     "name": "stdout",
     "output_type": "stream",
     "text": [
      "Numeric integration result:  377.99993912831724\n"
     ]
    }
   ],
   "source": [
    "integral_n = calculate_integral(n)\n",
    "print(\"Numeric integration result: \", integral_n)"
   ]
  },
  {
   "cell_type": "markdown",
   "metadata": {},
   "source": [
    "## Calculation method error using Runge rule"
   ]
  },
  {
   "cell_type": "code",
   "execution_count": 42,
   "metadata": {},
   "outputs": [
    {
     "name": "stdout",
     "output_type": "stream",
     "text": [
      "Error using Runge rule:  6.103441368547161e-05\n"
     ]
    }
   ],
   "source": [
    "theta = 1 / 3 #theta specified for average rectangles method\n",
    "integral_0_5_n = calculate_integral(n//2)\n",
    "error = theta * abs(integral_n - integral_0_5_n)\n",
    "print(\"Error using Runge rule: \", error)"
   ]
  },
  {
   "cell_type": "markdown",
   "metadata": {},
   "source": [
    "## Calculation of residual term"
   ]
  },
  {
   "cell_type": "code",
   "execution_count": 45,
   "metadata": {},
   "outputs": [
    {
     "name": "stdout",
     "output_type": "stream",
     "text": [
      "Residual term:  6.075e-05\n"
     ]
    }
   ],
   "source": [
    "d2f_dx2_max = 2\n",
    "R = ((b-a)**3 * d2f_dx2_max) / 24 / n / n\n",
    "print(\"Residual term: \", R)"
   ]
  },
  {
   "cell_type": "code",
   "execution_count": 46,
   "metadata": {},
   "outputs": [
    {
     "name": "stdout",
     "output_type": "stream",
     "text": [
      "Numeric integration result:  377.99993912831724\n",
      "Error using Runge rule:  6.103441368547161e-05\n",
      "Residual term:  6.075e-05\n"
     ]
    }
   ],
   "source": [
    "print(\"Numeric integration result: \", integral_n)\n",
    "print(\"Error using Runge rule: \", error)\n",
    "print(\"Residual term: \", R)"
   ]
  },
  {
   "cell_type": "code",
   "execution_count": null,
   "metadata": {},
   "outputs": [],
   "source": []
  }
 ],
 "metadata": {
  "kernelspec": {
   "display_name": "Python 3",
   "language": "python",
   "name": "python3"
  },
  "language_info": {
   "codemirror_mode": {
    "name": "ipython",
    "version": 3
   },
   "file_extension": ".py",
   "mimetype": "text/x-python",
   "name": "python",
   "nbconvert_exporter": "python",
   "pygments_lexer": "ipython3",
   "version": "3.6.5"
  }
 },
 "nbformat": 4,
 "nbformat_minor": 2
}
