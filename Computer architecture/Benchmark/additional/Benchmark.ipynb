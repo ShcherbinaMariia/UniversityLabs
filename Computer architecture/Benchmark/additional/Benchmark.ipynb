{
  "nbformat": 4,
  "nbformat_minor": 0,
  "metadata": {
    "colab": {
      "name": "Benchmark.ipynb",
      "version": "0.3.2",
      "provenance": [],
      "collapsed_sections": []
    },
    "kernelspec": {
      "name": "python3",
      "display_name": "Python 3"
    },
    "accelerator": "TPU"
  },
  "cells": [
    {
      "metadata": {
        "id": "vtgZI1M-XZRO",
        "colab_type": "code",
        "colab": {}
      },
      "cell_type": "code",
      "source": [
        "import timeit\n",
        "from decimal import Decimal"
      ],
      "execution_count": 0,
      "outputs": []
    },
    {
      "metadata": {
        "id": "esRp06vUZ0lh",
        "colab_type": "code",
        "colab": {}
      },
      "cell_type": "code",
      "source": [
        "N = 10000000\n",
        "NUMBER = 5\n",
        "OP_PER_CYCLE = 8\n",
        "MAX_WIDTH = 80"
      ],
      "execution_count": 0,
      "outputs": []
    },
    {
      "metadata": {
        "id": "XBlKtQsohpwA",
        "colab_type": "code",
        "colab": {}
      },
      "cell_type": "code",
      "source": [
        "def assignment(i):\n",
        "  while i < N:\n",
        "    a = i \n",
        "    b = i \n",
        "    c = i\n",
        "    d = i \n",
        "    e = i\n",
        "    f = i \n",
        "    g = i\n",
        "    h = i\n",
        "    i = i + 1"
      ],
      "execution_count": 0,
      "outputs": []
    },
    {
      "metadata": {
        "id": "bG-P_FbAZEQD",
        "colab_type": "code",
        "colab": {}
      },
      "cell_type": "code",
      "source": [
        "def add(i):\n",
        "  while i < N:\n",
        "    a = i + i\n",
        "    b = i + i\n",
        "    c = i + i\n",
        "    d = i + i \n",
        "    e = i + i\n",
        "    f = i + i \n",
        "    g = i + i\n",
        "    h = i + i\n",
        "    i = i + 1"
      ],
      "execution_count": 0,
      "outputs": []
    },
    {
      "metadata": {
        "id": "E2hDn7cHYLgD",
        "colab_type": "code",
        "colab": {}
      },
      "cell_type": "code",
      "source": [
        "def subtract(i):\n",
        "  while i < N:\n",
        "    a = i - i\n",
        "    b = i - i\n",
        "    c = i - i\n",
        "    d = i - i \n",
        "    e = i - i\n",
        "    f = i - i \n",
        "    g = i - i\n",
        "    h = i - i\n",
        "    i = i + 1"
      ],
      "execution_count": 0,
      "outputs": []
    },
    {
      "metadata": {
        "id": "T0RFOgjlYdcI",
        "colab_type": "code",
        "colab": {}
      },
      "cell_type": "code",
      "source": [
        "def multiply(i):\n",
        "  while i < N:\n",
        "    a = i * i\n",
        "    b = i * i\n",
        "    c = i * i\n",
        "    d = i * i \n",
        "    e = i * i\n",
        "    f = i * i \n",
        "    g = i * i\n",
        "    h = i * i\n",
        "    i = i + 1 "
      ],
      "execution_count": 0,
      "outputs": []
    },
    {
      "metadata": {
        "id": "iudGCbitZAZx",
        "colab_type": "code",
        "colab": {}
      },
      "cell_type": "code",
      "source": [
        "def divide(i):\n",
        "  while i < N:\n",
        "    a = i / i\n",
        "    b = i / i\n",
        "    c = i / i\n",
        "    d = i / i \n",
        "    e = i / i\n",
        "    f = i / i \n",
        "    g = i / i\n",
        "    h = i / i\n",
        "    i = i + 1"
      ],
      "execution_count": 0,
      "outputs": []
    },
    {
      "metadata": {
        "id": "2WH5utXbr-lp",
        "colab_type": "code",
        "colab": {}
      },
      "cell_type": "code",
      "source": [
        "def div(i):\n",
        "  while i < N:\n",
        "    a = i // i\n",
        "    b = i // i\n",
        "    c = i // i\n",
        "    d = i // i \n",
        "    e = i // i\n",
        "    f = i // i \n",
        "    g = i // i\n",
        "    h = i // i\n",
        "    i = i + 1"
      ],
      "execution_count": 0,
      "outputs": []
    },
    {
      "metadata": {
        "id": "HMeSnoWxrM7k",
        "colab_type": "code",
        "colab": {}
      },
      "cell_type": "code",
      "source": [
        "def get_operations_per_second(value):\n",
        "  return (N * OP_PER_CYCLE * NUMBER/ value) "
      ],
      "execution_count": 0,
      "outputs": []
    },
    {
      "metadata": {
        "id": "h93P89nXyGF4",
        "colab_type": "code",
        "colab": {}
      },
      "cell_type": "code",
      "source": [
        "def get_diagram(value):\n",
        "  return \"#\" * (int)((value * MAX_WIDTH) / max_op_per_second)"
      ],
      "execution_count": 0,
      "outputs": []
    },
    {
      "metadata": {
        "id": "VdFt-1qLcfBg",
        "colab_type": "code",
        "colab": {}
      },
      "cell_type": "code",
      "source": [
        "result = {}"
      ],
      "execution_count": 0,
      "outputs": []
    },
    {
      "metadata": {
        "id": "be5gZGZ9Y68j",
        "colab_type": "code",
        "colab": {}
      },
      "cell_type": "code",
      "source": [
        "result[\"assignInt\"] = timeit.timeit(\"assignment(1)\", setup=\"from __main__ import assignment\",  number = NUMBER)\n",
        "result[\"addInt\"] = timeit.timeit(\"add(1)\", setup=\"from __main__ import add\",  number = NUMBER) - result[\"assignInt\"]\n",
        "result[\"subtractInt\"] = timeit.timeit(\"subtract(1)\", setup=\"from __main__ import subtract\",  number = NUMBER) - result[\"assignInt\"]\n",
        "result[\"multiplyInt\"] = timeit.timeit(\"multiply(1)\", setup=\"from __main__ import multiply\",  number = NUMBER) - result[\"assignInt\"]\n",
        "result[\"divideInt\"] = timeit.timeit(\"div(1)\", setup=\"from __main__ import div\",  number = NUMBER) - result[\"assignInt\"]"
      ],
      "execution_count": 0,
      "outputs": []
    },
    {
      "metadata": {
        "id": "9CtJLnJziorR",
        "colab_type": "code",
        "colab": {}
      },
      "cell_type": "code",
      "source": [
        "result[\"assignDouble\"] = timeit.timeit(\"assignment(1.0)\", setup=\"from __main__ import assignment\",  number = NUMBER)\n",
        "result[\"addDouble\"] = timeit.timeit(\"add(1.0)\", setup=\"from __main__ import add\",  number = NUMBER) - result[\"assignDouble\"]\n",
        "result[\"subtractDouble\"] = timeit.timeit(\"subtract(1.0)\", setup=\"from __main__ import subtract\",  number = NUMBER) - result[\"assignDouble\"]\n",
        "result[\"multiplyDouble\"] = timeit.timeit(\"multiply(1.0)\", setup=\"from __main__ import multiply\",  number = NUMBER) - result[\"assignDouble\"]\n",
        "result[\"divideDouble\"] = timeit.timeit(\"divide(1.0)\", setup=\"from __main__ import divide\",  number = NUMBER) - result[\"assignDouble\"]"
      ],
      "execution_count": 0,
      "outputs": []
    },
    {
      "metadata": {
        "id": "ePVDNJmayTlr",
        "colab_type": "code",
        "colab": {}
      },
      "cell_type": "code",
      "source": [
        "max_op_per_second = result[max(result, key=result.get)]"
      ],
      "execution_count": 0,
      "outputs": []
    },
    {
      "metadata": {
        "id": "ffrzpd8_UrpP",
        "colab_type": "code",
        "colab": {}
      },
      "cell_type": "code",
      "source": [
        "def percent(op_per_second):\n",
        "  return op_per_second * 100 / max_op_per_second"
      ],
      "execution_count": 0,
      "outputs": []
    },
    {
      "metadata": {
        "id": "DXhLhb_pmJG8",
        "colab_type": "code",
        "colab": {}
      },
      "cell_type": "code",
      "source": [
        "def print_results(msg):\n",
        "  print(msg)\n",
        "\n",
        "  for item in result:\n",
        "    op_per_second = result[item]\n",
        "    '{:10}-{:3}'.format(\"1\", \"2\")\n",
        "    print ('{:15} {:.2e} {:.2f} {:80}'.format(item, Decimal(get_operations_per_second(op_per_second)), percent(op_per_second), get_diagram(op_per_second)))"
      ],
      "execution_count": 0,
      "outputs": []
    },
    {
      "metadata": {
        "id": "bDEdrjalTTNz",
        "colab_type": "code",
        "colab": {
          "base_uri": "https://localhost:8080/",
          "height": 204
        },
        "outputId": "0046fcab-f0c9-451b-8e10-5d675925afba"
      },
      "cell_type": "code",
      "source": [
        "print_results(\"None accelerator\")"
      ],
      "execution_count": 62,
      "outputs": [
        {
          "output_type": "stream",
          "text": [
            "None accelerator\n",
            "assignInt       4.03e+7 63.39 ##################################################                              \n",
            "addInt          3.32e+7 76.98 #############################################################                   \n",
            "subtractInt     4.33e+7 59.08 ###############################################                                 \n",
            "multiplyInt     2.56e+7 100.00 ################################################################################\n",
            "divideInt       2.86e+7 89.45 #######################################################################         \n",
            "assignDouble    3.87e+7 66.02 ####################################################                            \n",
            "addDouble       5.98e+7 42.74 ##################################                                              \n",
            "subtractDouble  5.96e+7 42.92 ##################################                                              \n",
            "multiplyDouble  5.24e+7 48.85 #######################################                                         \n",
            "divideDouble    6.20e+7 41.26 #################################                                               \n"
          ],
          "name": "stdout"
        }
      ]
    },
    {
      "metadata": {
        "id": "6Lq8L7Z7tvdN",
        "colab_type": "code",
        "colab": {
          "base_uri": "https://localhost:8080/",
          "height": 204
        },
        "outputId": "a7bbc109-8629-4bbb-8ad6-19d007ae9f27"
      },
      "cell_type": "code",
      "source": [
        "print_results(\"GPU accelerator\")"
      ],
      "execution_count": 26,
      "outputs": [
        {
          "output_type": "stream",
          "text": [
            "GPU accelerator\n",
            "assignInt       4.74e+7 66.00 ####################################################                            \n",
            "addInt          3.52e+7 88.75 #######################################################################         \n",
            "subtractInt     5.04e+7 61.99 #################################################                               \n",
            "multiplyInt     3.13e+7 100.00 ################################################################################\n",
            "divideInt       3.31e+7 94.34 ###########################################################################     \n",
            "assignDouble    4.40e+7 71.04 ########################################################                        \n",
            "addDouble       6.29e+7 49.69 #######################################                                         \n",
            "subtractDouble  6.43e+7 48.62 ######################################                                          \n",
            "multiplyDouble  6.15e+7 50.87 ########################################                                        \n",
            "divideDouble    6.45e+7 48.45 ######################################                                          \n"
          ],
          "name": "stdout"
        }
      ]
    },
    {
      "metadata": {
        "id": "4YdcV0OPFX90",
        "colab_type": "code",
        "colab": {
          "base_uri": "https://localhost:8080/",
          "height": 204
        },
        "outputId": "77eafc73-b111-45f8-cf11-9bd2823e2793"
      },
      "cell_type": "code",
      "source": [
        "print_results(\"TPU accelerator\")"
      ],
      "execution_count": 17,
      "outputs": [
        {
          "output_type": "stream",
          "text": [
            "TPU accelerator\n",
            "assignInt       4.00e+7 71.62 #########################################################                       \n",
            "addInt          4.06e+7 70.62 ########################################################                        \n",
            "subtractInt     4.25e+7 67.41 #####################################################                           \n",
            "multiplyInt     2.87e+7 99.79 ############################################################################### \n",
            "divideInt       2.87e+7 100.00 ################################################################################\n",
            "assignDouble    3.87e+7 74.00 ###########################################################                     \n",
            "addDouble       6.24e+7 45.90 ####################################                                            \n",
            "subtractDouble  6.06e+7 47.28 #####################################                                           \n",
            "multiplyDouble  5.82e+7 49.19 #######################################                                         \n",
            "divideDouble    5.97e+7 48.00 ######################################                                          \n"
          ],
          "name": "stdout"
        }
      ]
    }
  ]
}