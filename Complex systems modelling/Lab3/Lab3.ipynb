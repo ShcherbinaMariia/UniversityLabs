{
 "cells": [
  {
   "cell_type": "markdown",
   "metadata": {},
   "source": [
    "# Analytic modelling"
   ]
  },
  {
   "cell_type": "code",
   "execution_count": 2,
   "metadata": {},
   "outputs": [],
   "source": [
    "import numpy as np\n",
    "import matplotlib.pyplot as plt\n",
    "from scipy.special import factorial"
   ]
  },
  {
   "cell_type": "markdown",
   "metadata": {},
   "source": [
    "## Input variables"
   ]
  },
  {
   "cell_type": "code",
   "execution_count": 3,
   "metadata": {},
   "outputs": [],
   "source": [
    "n = 2\n",
    "lambda0 = 0.7\n",
    "p0 = np.array([1, 0])\n",
    "p = np.array([[0.1, 0.9], [0.2, 0.4]])\n",
    "mu = np.array([1/0.4, 1/0.6])\n",
    "r = np.array([2, 3])"
   ]
  },
  {
   "cell_type": "markdown",
   "metadata": {},
   "source": [
    "## Finding $\\lambda$ by solving system of linear equations $\\lambda_{i}=\\sum_{j=0}^{n}P_{ji}\\lambda_{j}$"
   ]
  },
  {
   "cell_type": "code",
   "execution_count": 4,
   "metadata": {},
   "outputs": [],
   "source": [
    "lambdas = np.linalg.solve(np.transpose(p) - np.identity(n), -lambda0 * p0)"
   ]
  },
  {
   "cell_type": "markdown",
   "metadata": {},
   "source": [
    "## Finding $e_{i}$ using $\\lambda_{i} = e_{i} \\lambda_{0}$ "
   ]
  },
  {
   "cell_type": "code",
   "execution_count": 5,
   "metadata": {},
   "outputs": [],
   "source": [
    "e = lambdas/lambda0"
   ]
  },
  {
   "cell_type": "markdown",
   "metadata": {},
   "source": [
    "## Checking stationarity of the system using criteria $\\lambda_{i} < \\mu_{i} r_{i}$"
   ]
  },
  {
   "cell_type": "code",
   "execution_count": 6,
   "metadata": {},
   "outputs": [],
   "source": [
    "assert((lambdas < mu * r).all())"
   ]
  },
  {
   "cell_type": "markdown",
   "metadata": {},
   "source": [
    "## Calculating normalizing coefficient using \n",
    "$C = \\left(\\left(\\frac{\\lambda}{\\mu}\\right)^r \\frac{1}{r! \\left(1 - \\frac{\\lambda}{\\mu r}\\right)} + \\sum_{k=0}^{r-1} \\left(\\frac{\\lambda}{\\mu}\\right)^k \\frac{1}{k!}\\right)^{-1}$"
   ]
  },
  {
   "cell_type": "code",
   "execution_count": 7,
   "metadata": {},
   "outputs": [],
   "source": [
    "c = np.zeros((n, ))\n",
    "\n",
    "for i in range(n):\n",
    "    c[i] = (lambdas[i]/mu[i]) ** r[i] / (np.math.factorial(r[i]) * (1 - lambdas[i]/(mu[i] * r[i])))\n",
    "    for k in range(r[i]):\n",
    "        c[i] += (lambdas[i]/mu[i])**k / np.math.factorial(k)\n",
    "\n",
    "c = 1 / c"
   ]
  },
  {
   "cell_type": "code",
   "execution_count": 8,
   "metadata": {},
   "outputs": [],
   "source": [
    "pr = []\n",
    "maxn = 20\n",
    "eps = 1e-5\n",
    "\n",
    "for i in range(n):\n",
    "    pri = 0\n",
    "    pr.append([])\n",
    "    \n",
    "    for k in range(maxn):\n",
    "        prk = (lambdas[i]/mu[i])**k * c[i]\n",
    "        \n",
    "        if k > r[i]:\n",
    "            prk /= (np.math.factorial(r[i]) * (r[i]**(k - r[i])))\n",
    "        else:\n",
    "            prk /= np.math.factorial(k)\n",
    "        \n",
    "        pr[i].append(prk)\n",
    "        pri += prk\n",
    "\n",
    "    assert(abs(pri - 1) < eps)\n",
    "pr = np.array(pr)"
   ]
  },
  {
   "cell_type": "markdown",
   "metadata": {},
   "source": [
    "## Calculating efficiency parameters for the system \n",
    "$L_{i} = \\sum_{j=r+1}^{\\infty} (j-r) P_{i}(j)$ - average queue length for node i\n",
    "\n",
    "$R_{i} = \\frac{\\lambda_{i}}{\\mu_{i}}$ - average number of channels in use in node i\n",
    "\n",
    "$M_{i} = L_{i} + R_{i}$ - average number of requests in node i\n",
    "\n",
    "$Q_{i} = \\frac{L_{i}}{\\lambda_{i}}$ - average waiting time in queue i\n",
    "\n",
    "$T_{i} = \\frac{M_{i}}{\\lambda_{i}}$ - average time spent in node i by request \n",
    "\n",
    "$T = \\sum_{i=1}^{n} e_{i} T_{i}$ - average time spent in system by request "
   ]
  },
  {
   "cell_type": "code",
   "execution_count": 9,
   "metadata": {},
   "outputs": [],
   "source": [
    "L = np.zeros((n, ))\n",
    "for i in range(n):\n",
    "    for k in range(r[i] + 1, maxn):\n",
    "        L[i] += (k - r[i])* pr[i, k]"
   ]
  },
  {
   "cell_type": "code",
   "execution_count": 10,
   "metadata": {},
   "outputs": [],
   "source": [
    "R = lambdas/mu\n",
    "M = L + R \n",
    "Q = L / lambdas\n",
    "T = M / lambdas\n",
    "T_all = sum(e * T)"
   ]
  },
  {
   "cell_type": "markdown",
   "metadata": {},
   "source": [
    "## Output variables"
   ]
  },
  {
   "cell_type": "code",
   "execution_count": 12,
   "metadata": {},
   "outputs": [
    {
     "name": "stdout",
     "output_type": "stream",
     "text": [
      "L =  [0.02687035 0.05515029]\n",
      "R =  [0.46666667 1.05      ]\n",
      "M =  [0.49353702 1.10515029]\n",
      "Q =  [0.02303173 0.03151445]\n",
      "T =  [0.42303173 0.63151445]\n",
      "T_all =  2.2838390107372395\n"
     ]
    }
   ],
   "source": [
    "print (\"L = \", L)\n",
    "print (\"R = \", R)\n",
    "print (\"M = \", M)\n",
    "print (\"Q = \", Q)\n",
    "print (\"T = \", T)\n",
    "print (\"T_all = \", T_all)"
   ]
  }
 ],
 "metadata": {
  "kernelspec": {
   "display_name": "Python 3",
   "language": "python",
   "name": "python3"
  },
  "language_info": {
   "codemirror_mode": {
    "name": "ipython",
    "version": 3
   },
   "file_extension": ".py",
   "mimetype": "text/x-python",
   "name": "python",
   "nbconvert_exporter": "python",
   "pygments_lexer": "ipython3",
   "version": "3.6.5"
  }
 },
 "nbformat": 4,
 "nbformat_minor": 2
}
